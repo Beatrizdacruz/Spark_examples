{
  "nbformat": 4,
  "nbformat_minor": 0,
  "metadata": {
    "colab": {
      "provenance": [],
      "authorship_tag": "ABX9TyOlFanY2Mt3atoQU044olc+",
      "include_colab_link": true
    },
    "kernelspec": {
      "name": "python3",
      "display_name": "Python 3"
    },
    "language_info": {
      "name": "python"
    }
  },
  "cells": [
    {
      "cell_type": "markdown",
      "metadata": {
        "id": "view-in-github",
        "colab_type": "text"
      },
      "source": [
        "<a href=\"https://colab.research.google.com/github/Beatrizdacruz/Spark_examples/blob/main/examples/estudoSpark_py.ipynb\" target=\"_parent\"><img src=\"https://colab.research.google.com/assets/colab-badge.svg\" alt=\"Open In Colab\"/></a>"
      ]
    },
    {
      "cell_type": "code",
      "execution_count": null,
      "metadata": {
        "id": "I3z74C9MaNE5"
      },
      "outputs": [],
      "source": [
        "!pip install pyspark==3.0.1 py4j==0.10.9"
      ]
    },
    {
      "cell_type": "code",
      "source": [
        "\n",
        "from pyspark.sql import SparkSession\n",
        "from pyspark.sql.types import *\n",
        "\n",
        "spark = SparkSession.builder\\\n",
        "        .master(\"local[*]\")\\\n",
        "        .appName('Estudo_PySpark')\\\n",
        "        .getOrCreate()\n",
        "csv_file = 'data/Top_1000_Companies_Dataset.csv'\n",
        "#df = spark.read.csv(csv_file)\n",
        "df = spark.read.format('csv').options(header='true', inferSchema='true', delimiter = \";\").load(csv_file)\n",
        "\n",
        "df.printSchema()\n",
        "df.columns\n",
        "\n",
        "\n",
        "data_schema = [\n",
        "               StructField('company_name', StringType(), True),\n",
        "               StructField('url', StringType(), True),\n",
        "               StructField('city', StringType(), True),\n",
        "               StructField('state', StringType(), True),\n",
        "               StructField('country', StringType(), True),\n",
        "               StructField('employees', IntegerType(), True),\n",
        "               StructField('linkedin_url', StringType(), True),\n",
        "               StructField('founded', IntegerType(), True),\n",
        "               StructField('Industry', StringType(), True),\n",
        "               StructField('GrowjoRanking', IntegerType(), True),\n",
        "               StructField('PreviousRanking', IntegerType(), True),\n",
        "               StructField('estimated_revenues', IntegerType(), True),\n",
        "               StructField('job_openings', IntegerType(), True),\n",
        "               StructField('keywords', StringType(), True),\n",
        "               StructField('LeadInvestors', StringType(), True),\n",
        "               StructField('Accelerator', StringType(), True),\n",
        "               StructField('btype', StringType(), True),\n",
        "               StructField('valuation', StringType(), True),\n",
        "               StructField('total_funding', StringType(), True),\n",
        "               StructField('product_url', StringType(), True),\n",
        "               StructField('indeed_url', StringType(), True),\n",
        "               StructField('growth_percentage', StringType(), True),\n",
        "               StructField('contact_info', StringType(), True),\n",
        "            ]\n",
        "\n",
        "final_struc = StructType(fields = data_schema)\n",
        "\n",
        "data = spark.read.csv('data/Top_1000_Companies_Dataset.csv',sep = ',', header = True, schema = final_struc)\n",
        "\n",
        "#data.dtypes\n",
        "#data.describe().show(5) #mostra as estatísticas\n",
        "data.show(5)"
      ],
      "metadata": {
        "id": "7aagyuRqb1I-",
        "colab": {
          "base_uri": "https://localhost:8080/"
        },
        "outputId": "af0883b9-849d-4fbf-d7a2-63f3f9e8a424"
      },
      "execution_count": null,
      "outputs": [
        {
          "output_type": "stream",
          "name": "stdout",
          "text": [
            "root\n",
            " |-- company_name,url,city,state,country,employees,linkedin_url,founded,Industry,GrowjoRanking,Previous Ranking,estimated_revenues,job_openings,keywords,LeadInvestors,Accelerator,btype,valuation,total_funding,product_url,indeed_url,growth_percentage,contact_info: string (nullable = true)\n",
            "\n",
            "+-------------------+-----------+-------------+-----+-------------+---------+--------------------+-------+---------+-------------+---------------+------------------+------------+--------------------+--------------------+-----------+-----+-----------+-------------+--------------------+--------------------+-----------------+--------------------+\n",
            "|       company_name|        url|         city|state|      country|employees|        linkedin_url|founded| Industry|GrowjoRanking|PreviousRanking|estimated_revenues|job_openings|            keywords|       LeadInvestors|Accelerator|btype|  valuation|total_funding|         product_url|          indeed_url|growth_percentage|        contact_info|\n",
            "+-------------------+-----------+-------------+-----+-------------+---------+--------------------+-------+---------+-------------+---------------+------------------+------------+--------------------+--------------------+-----------+-----+-----------+-------------+--------------------+--------------------+-----------------+--------------------+\n",
            "|             OpenAI| openai.com|San Francisco|   CA|United States|      655|http://www.linked...|   2015|       AI|            1|              1|          88722200|          25|Artificial Intell...|Thrive, Founders ...|       null| null|29000000000|         $11B|https://www.growj...|https://www.indee...|             118%|For Contact Direc...|\n",
            "|            Alchemy|alchemy.com|San Francisco|   CA|United States|      201|http://www.linked...|   null|  Fintech|            2|              2|          39269750|           1|                null|Lightspeed, Silve...|       null| null|10200000000|        $564M|https://www.growj...|https://www.indee...|             134%|For Contact Direc...|\n",
            "|           dbt Labs| getdbt.com| Philadelphia|   PA|United States|      511|http://www.linked...|   2016|Analytics|            3|              3|          76987400|           1|                null|           Altimeter|       null| null| 4200000000|      $414.4M|https://www.growj...|https://www.indee...|              76%|For Contact Direc...|\n",
            "|Wasabi Technologies| wasabi.com|       Boston|   MA|United States|      355|http://www.linked...|   2017|    Cloud|            4|              4|          38480000|           4|                saas|            L2 Point|       null| null| 1100000000|      $286.2M|https://www.growj...|https://www.indee...|              60%|For Contact Direc...|\n",
            "|            Whatnot|whatnot.com|  Los Angeles|   CA|United States|      551|http://www.linked...|   2019|eCommerce|            5|              5|          39664000|           1|                null|          DST Global|       null| null| 3700000000|      $484.7M|https://www.growj...|https://www.indee...|              97%|For Contact Direc...|\n",
            "+-------------------+-----------+-------------+-----+-------------+---------+--------------------+-------+---------+-------------+---------------+------------------+------------+--------------------+--------------------+-----------+-----+-----------+-------------+--------------------+--------------------+-----------------+--------------------+\n",
            "only showing top 5 rows\n",
            "\n"
          ]
        }
      ]
    },
    {
      "cell_type": "markdown",
      "source": [
        "master()– Se você estiver executando no cluster, precisará usar seu nome mestre como um argumento. normalmente, seria yarn ou mesosdepende da configuração do cluster e também é usado local[X]ao executar no modo autônomo. Xdeve ser um valor inteiro e deve ser maior que 0, que representa quantas partições ele deve criar ao usar RDD, DataFrame e Dataset. Idealmente, o valor Xdeve ser o número de núcleos da CPU.\n",
        "appName()o método é usado para definir o nome do seu aplicativo.\n",
        "getOrCreate()o método retorna uma SparkSession existente, caso contrário, cria uma nova SparkSession."
      ],
      "metadata": {
        "id": "CIeikLKYd5YT"
      }
    },
    {
      "cell_type": "markdown",
      "source": [
        "renomear coluna url e remover coluna \"contact_info\""
      ],
      "metadata": {
        "id": "toj77sOeTzdo"
      }
    },
    {
      "cell_type": "code",
      "source": [
        "data = data.withColumnRenamed('url', 'domain')\n",
        "data = data.drop('contact_info')\n",
        "data.show()"
      ],
      "metadata": {
        "colab": {
          "base_uri": "https://localhost:8080/"
        },
        "id": "OHrzxAhNTki-",
        "outputId": "fb90a20d-4157-47b6-971a-b4d14a6dd86a"
      },
      "execution_count": null,
      "outputs": [
        {
          "output_type": "stream",
          "name": "stdout",
          "text": [
            "+--------------------+-----------------+-------------+-----+-------------+---------+--------------------+-------+--------------+-------------+---------------+------------------+------------+--------------------+--------------------+-----------+-----+-----------+-------------+--------------------+--------------------+-----------------+\n",
            "|        company_name|           domain|         city|state|      country|employees|        linkedin_url|founded|      Industry|GrowjoRanking|PreviousRanking|estimated_revenues|job_openings|            keywords|       LeadInvestors|Accelerator|btype|  valuation|total_funding|         product_url|          indeed_url|growth_percentage|\n",
            "+--------------------+-----------------+-------------+-----+-------------+---------+--------------------+-------+--------------+-------------+---------------+------------------+------------+--------------------+--------------------+-----------+-----+-----------+-------------+--------------------+--------------------+-----------------+\n",
            "|              OpenAI|       openai.com|San Francisco|   CA|United States|      655|http://www.linked...|   2015|            AI|            1|              1|          88722200|          25|Artificial Intell...|Thrive, Founders ...|       null| null|29000000000|         $11B|https://www.growj...|https://www.indee...|             118%|\n",
            "|             Alchemy|      alchemy.com|San Francisco|   CA|United States|      201|http://www.linked...|   null|       Fintech|            2|              2|          39269750|           1|                null|Lightspeed, Silve...|       null| null|10200000000|        $564M|https://www.growj...|https://www.indee...|             134%|\n",
            "|            dbt Labs|       getdbt.com| Philadelphia|   PA|United States|      511|http://www.linked...|   2016|     Analytics|            3|              3|          76987400|           1|                null|           Altimeter|       null| null| 4200000000|      $414.4M|https://www.growj...|https://www.indee...|              76%|\n",
            "| Wasabi Technologies|       wasabi.com|       Boston|   MA|United States|      355|http://www.linked...|   2017|         Cloud|            4|              4|          38480000|           4|                saas|            L2 Point|       null| null| 1100000000|      $286.2M|https://www.growj...|https://www.indee...|              60%|\n",
            "|             Whatnot|      whatnot.com|  Los Angeles|   CA|United States|      551|http://www.linked...|   2019|     eCommerce|            5|              5|          39664000|           1|                null|          DST Global|       null| null| 3700000000|      $484.7M|https://www.growj...|https://www.indee...|              97%|\n",
            "|Crusoe Energy Sys...| crusoeenergy.com|       Denver|   CO|United States|      201|http://www.linked...|   2018|    Energy/Oil|            6|              6|          58205875|           1|Cloud Computing, ...|Bain Capital Vent...|       null| null| 1750000000|      $747.5M|https://www.growj...|https://www.indee...|              68%|\n",
            "|        Aurora Solar|  aurorasolar.com|San Francisco|   CA|United States|      561|http://www.linked...|   2013|     Salestech|            7|              7|          92989400|           3|           saas saas|                null|       null| null| 4000000000|      $523.5M|https://www.growj...|https://www.indee...|              47%|\n",
            "|            Kindbody|     kindbody.com|     New York|   NY|United States|      621|http://www.linked...|   2018|Digital Health|            8|              8|         105791000|          38|Healthcare, Medic...|                null|       null| null| 1800000000|      $125.3M|https://www.growj...|https://www.indee...|              44%|\n",
            "|           Yuga Labs|      yugalabs.io|   Everywhere| null|United States|      177|http://www.linked...|   null|       Fintech|            9|              9|          23023000|           1|                null|Andreessen Horowi...|       null| null| 4000000000|        $450M|https://www.growj...|https://www.indee...|             101%|\n",
            "|      Locus Robotics|locusrobotics.com|   Wilmington|   MA|United States|      481|http://www.linked...|   2014|    Industrial|           10|             10|         194566540|          10|Internet of Thing...|Goldman Sachs, G2...|       null|  B2B| 2000000000|        $299M|https://www.growj...|https://www.indee...|              41%|\n",
            "|           Anthropic|    anthropic.com|San Francisco|   CA|          USA|      131|http://www.linked...|   null|            AI|           11|             11|          15400000|           1|                null|                null|       null| null| 4400000000|        $1.3B|https://www.growj...|https://www.indee...|             138%|\n",
            "|                ICON|    iconbuild.com|       Austin|   TX|United States|      431|http://www.linked...|   null|            3D|           12|             12|          97802700|           1|                null|Moderne Ventures,...|       null| null| 1570000000|        $450M|https://www.growj...|https://www.indee...|              92%|\n",
            "|              Sentry|        sentry.io|San Francisco|   CA|United States|      378|http://www.linked...|   2011|     Analytics|           13|             13|          63119000|          39|                saas|         Bond, Accel|       null| null| 3000000000|        $127M|https://www.growj...|https://www.indee...|              36%|\n",
            "|             Axonius|      axonius.com|     New York|   NY|United States|      628|http://www.linked...|   2017|   IT Security|           14|             14|         170733720|          28|cybersecurity ass...|               Accel|       null| null| 2600000000|        $665M|https://www.growj...|https://www.indee...|              52%|\n",
            "|               Drata|        drata.com|    San Diego|   CA|United States|      427|http://www.linked...|   2020|   IT Security|           15|             15|         116067840|           1|                saas|  Iconiq Growth, GGV|       null| null| 2000000000|      $128.2M|https://www.growj...|https://www.indee...|             111%|\n",
            "|             Payhawk|      payhawk.com|       London|   UK|           UK|      269|http://www.linked...|   2018|       Fintech|           16|             16|          39409500|           1|                null|Lightspeed Ventur...|       null| null| 1000000000|      $239.1M|https://www.growj...|https://www.indee...|             228%|\n",
            "|           Shield AI|        shield.ai|    San Diego|   CA|United States|      435|http://www.linked...|   2015|       Defense|           17|             17|         178760120|           1|Hardware, Securit...|Doug Philippone, ...|       null| null| 2300000000|      $348.1M|https://www.growj...|https://www.indee...|              48%|\n",
            "|         Astera Labs|   asteralabs.com|  Santa Clara|   CA|United States|      197|http://www.linked...|   2017|Semiconductors|           18|             18|          61194375|           1|                null|Fidelity Manageme...|       null| null| 3150000000|       $56.4M|https://www.growj...|https://www.indee...|              99%|\n",
            "|          Binance.US|       binance.us|San Francisco|   CA|United States|      459|http://www.linked...|   2019|       Fintech|           19|             19|          79578200|           1|                null|        RRE Ventures|       null| null| 4500000000|        $200M|https://www.growj...|https://www.indee...|              52%|\n",
            "|                RAMP|         ramp.com|     New York|   NY|United States|      538|http://www.linked...|   2006|       Fintech|           20|             20|          93281500|          21|                saas|       Founders Fund|       null| null| 8100000000|        $1.4B|https://www.growj...|https://www.indee...|              99%|\n",
            "+--------------------+-----------------+-------------+-----+-------------+---------+--------------------+-------+--------------+-------------+---------------+------------------+------------+--------------------+--------------------+-----------+-----+-----------+-------------+--------------------+--------------------+-----------------+\n",
            "only showing top 20 rows\n",
            "\n"
          ]
        }
      ]
    },
    {
      "cell_type": "markdown",
      "source": [
        "consultar dados:\n",
        "Selecionando apenas empresas que foram fundadas após 2020."
      ],
      "metadata": {
        "id": "cpe3O9JHUEmP"
      }
    },
    {
      "cell_type": "code",
      "source": [
        "from pyspark.sql.functions import col, lit\n",
        "\n",
        "data.filter(col('founded') >= lit('2020')).show()\n"
      ],
      "metadata": {
        "colab": {
          "base_uri": "https://localhost:8080/"
        },
        "id": "mvcckSy5ULA9",
        "outputId": "5a0230a0-beed-436a-8c5d-8e205879d3bd"
      },
      "execution_count": null,
      "outputs": [
        {
          "output_type": "stream",
          "name": "stdout",
          "text": [
            "+---------------+------------------+-------------+-----+--------------------+---------+--------------------+-------+-------------+-------------+---------------+------------------+------------+--------+--------------------+-----------+-----+-----------+-------------+--------------------+--------------------+-----------------+\n",
            "|   company_name|            domain|         city|state|             country|employees|        linkedin_url|founded|     Industry|GrowjoRanking|PreviousRanking|estimated_revenues|job_openings|keywords|       LeadInvestors|Accelerator|btype|  valuation|total_funding|         product_url|          indeed_url|growth_percentage|\n",
            "+---------------+------------------+-------------+-----+--------------------+---------+--------------------+-------+-------------+-------------+---------------+------------------+------------+--------+--------------------+-----------+-----+-----------+-------------+--------------------+--------------------+-----------------+\n",
            "|          Drata|         drata.com|    San Diego|   CA|       United States|      427|http://www.linked...|   2020|  IT Security|           15|             15|         116067840|           1|    saas|  Iconiq Growth, GGV|       null| null| 2000000000|      $128.2M|https://www.growj...|https://www.indee...|             111%|\n",
            "|    Mysten Labs|    mystenlabs.com|San Francisco|   CA|       United States|      117|http://www.linked...|   2021|      Fintech|           28|             28|          22919000|           1|    null|        FTX Ventures|       null| null| 2000000000|         null|https://www.growj...|https://www.indee...|             255%|\n",
            "|          Aptos|     aptoslabs.com|    Palo Alto|   CA|       United States|      181|http://www.linked...|   2021|      Fintech|           32|             32|          28788500|           1|    null|                a16z|       null| null| 1400000000|         null|https://www.growj...|https://www.indee...|             262%|\n",
            "|Our Next Energy|            one.ai|      Detroit|   MI|       United States|      245|http://www.linked...|   2020|  Electronics|           37|             37|          67687375|           1|    null|                null|       null| null| 1200000000|         null|https://www.growj...|https://www.indee...|             145%|\n",
            "|            Zip|         ziphq.com|San Francisco|   CA|       United States|      640|http://www.linked...|   2020|      Fintech|           63|             64|         113920000|           1|    null|        Y Combinator|       null| null| 1500000000|         $81M|https://www.growj...|https://www.indee...|             104%|\n",
            "|         Jasper|         jasper.ai|       Austin|   TX|       United States|      411|http://www.linked...|   2020|           AI|           68|             69|          65608200|        null|    null|    Insight Partners|       null| null| 1500000000|         null|https://www.growj...|https://www.indee...|             378%|\n",
            "|         Island|         island.io|       Dallas|   TX|       United States|      166|http://www.linked...|   2020|  IT Security|           76|             77|          38158200|           1|    null|    Insight Partners|       null| null| 1300000000|        $100M|https://www.growj...|https://www.indee...|              75%|\n",
            "|     Magic Eden|      magiceden.io|Mountain View|   CA|       United States|      134|http://www.linked...|   2021|      Fintech|           86|             87|          19704750|           1|    null|    Electric Capital|       null| null| 1600000000|         null|https://www.growj...|https://www.indee...|              60%|\n",
            "| Phantom Wallet|       phantom.app|San Francisco|   CA|       United States|       75|http://www.linked...|   2021|      Fintech|          109|            110|          13650000|           1|    null|Paradigm, Andrees...|       null| null| 1200000000|       $22.7M|https://www.growj...|https://www.indee...|             114%|\n",
            "|    Presight.ai|       presight.ai|    Abu Dhabi| null|United Arab Emirates|       98|https://www.linke...|   2020|           AI|          110|            111|          14420000|           1|    null|                null|       null| null| 2000000000|         null|https://www.growj...|https://www.indee...|             100%|\n",
            "|Beyond Identity|beyondidentity.com|     New York|   NY|       United States|      183|http://www.linked...|   2020|  IT Security|          121|            122|          42105600|          27|    null|Evolution Equity ...|       null| null| 1100000000|        $205M|https://www.growj...|https://www.indee...|               3%|\n",
            "|   Bilt Rewards|   biltrewards.com|     New York|   NY|       United States|       88|http://www.linked...|   2021|      Finance|          146|            147|          19320000|           1|    null|           Left Lane|       null| null| 1500000000|       $63.3M|https://www.growj...|https://www.indee...|              60%|\n",
            "|            Wiz|            wiz.io|     New York|   NY|       United States|      890|http://www.linked...|   2020|  IT Security|          147|            148|         180578760|           1|    null|Insight Partners,...|       null| null|10000000000|        $600M|https://www.growj...|https://www.indee...|             122%|\n",
            "|       Axios HQ|       axioshq.com|    Arlington|   TX|       United States|       95|https://www.linke...|   2022|           AI|          159|            160|          14000000|           1|    null|Glade Brook Capit...|       null| null|  100000000|         null|https://www.growj...|https://www.indee...|             206%|\n",
            "|           Veza|          veza.com|San Francisco|   CA|       United States|      118|http://www.linked...|   2020|  IT Security|          163|            164|          25296000|           1|    null|               Accel|       null| null|  500000000|         null|https://www.growj...|https://www.indee...|              44%|\n",
            "|      OpenStore|        open.store|        Miami|   FL|       United States|      135|http://www.linked...|   2021|Tech Services|          168|            169|          22134250|           1|    null|                 Lux|       null| null|  970000000|         null|https://www.growj...|https://www.indee...|             150%|\n",
            "|     prezent.ai|        prezent.ai|    Los Altos|   CA|       United States|      101|http://www.linked...|   2021|Tech Services|          184|            185|          15370000|           1|    null|           Greycroft|       null| null|  100000000|         null|https://www.growj...|https://www.indee...|             102%|\n",
            "|      Autograph|      autograph.io| Santa Monica|   CA|       United States|      117|http://www.linked...|   2021|      Fintech|          188|            189|          15990000|           1|    null|Andreessen Horowi...|       null| null|  700000000|       $13.3M|https://www.growj...|https://www.indee...|              38%|\n",
            "|   Celestial AI|      celestial.ai|  Santa Clara|   CA|       United States|       60|http://www.linked...|   2020|           AI|          189|            190|           7673400|           1|    null|Koch Disruptive T...|       null| null|  150000000|       $63.9M|https://www.growj...|https://www.indee...|              94%|\n",
            "|        Balance|    getbalance.com|San Francisco|   CA|       United States|       89|http://www.linked...|   2020|      Fintech|          195|            196|          12090000|           1|    null|      Ribbit Capital|       null| null|  365000000|       $0.03B|https://www.growj...|https://www.indee...|              89%|\n",
            "+---------------+------------------+-------------+-----+--------------------+---------+--------------------+-------+-------------+-------------+---------------+------------------+------------+--------+--------------------+-----------+-----+-----------+-------------+--------------------+--------------------+-----------------+\n",
            "only showing top 20 rows\n",
            "\n"
          ]
        }
      ]
    },
    {
      "cell_type": "markdown",
      "source": [
        "buscar empresas que tem entre 500 e 600 funcionários."
      ],
      "metadata": {
        "id": "_WEJq-utX3Dg"
      }
    },
    {
      "cell_type": "code",
      "source": [
        "data.filter(data.employees.between(500, 600)).show()"
      ],
      "metadata": {
        "colab": {
          "base_uri": "https://localhost:8080/"
        },
        "id": "qxLEPjNXXPJc",
        "outputId": "e6464876-47e7-43ef-8b5a-6a8123991322"
      },
      "execution_count": null,
      "outputs": [
        {
          "output_type": "stream",
          "name": "stdout",
          "text": [
            "+------------------+--------------------+----------------+-----+-------------+---------+--------------------+-------+--------------+-------------+---------------+------------------+------------+--------------------+--------------------+-----------+-----+-----------+-------------+--------------------+--------------------+-----------------+\n",
            "|      company_name|              domain|            city|state|      country|employees|        linkedin_url|founded|      Industry|GrowjoRanking|PreviousRanking|estimated_revenues|job_openings|            keywords|       LeadInvestors|Accelerator|btype|  valuation|total_funding|         product_url|          indeed_url|growth_percentage|\n",
            "+------------------+--------------------+----------------+-----+-------------+---------+--------------------+-------+--------------+-------------+---------------+------------------+------------+--------------------+--------------------+-----------+-----+-----------+-------------+--------------------+--------------------+-----------------+\n",
            "|          dbt Labs|          getdbt.com|    Philadelphia|   PA|United States|      511|http://www.linked...|   2016|     Analytics|            3|              3|          76987400|           1|                null|           Altimeter|       null| null| 4200000000|      $414.4M|https://www.growj...|https://www.indee...|              76%|\n",
            "|           Whatnot|         whatnot.com|     Los Angeles|   CA|United States|      551|http://www.linked...|   2019|     eCommerce|            5|              5|          39664000|           1|                null|          DST Global|       null| null| 3700000000|      $484.7M|https://www.growj...|https://www.indee...|              97%|\n",
            "|      Aurora Solar|     aurorasolar.com|   San Francisco|   CA|United States|      561|http://www.linked...|   2013|     Salestech|            7|              7|          92989400|           3|           saas saas|                null|       null| null| 4000000000|      $523.5M|https://www.growj...|https://www.indee...|              47%|\n",
            "|              RAMP|            ramp.com|        New York|   NY|United States|      538|http://www.linked...|   2006|       Fintech|           20|             20|          93281500|          21|                saas|       Founders Fund|       null| null| 8100000000|        $1.4B|https://www.growj...|https://www.indee...|              99%|\n",
            "|            SiFive|          sifive.com|       San Mateo|   CA|United States|      577|http://www.linked...|   2015|Semiconductors|           22|             22|         211645500|          26|Human Resources H...|Sutter Hill Ventu...|       null| null| 2500000000|      $365.5M|https://www.growj...|https://www.indee...|              22%|\n",
            "|        Fireblocks|      fireblocks.com|        New York|   NY|United States|      567|http://www.linked...|   2018|       Fintech|           31|             31|          92621100|          10|                saas|D1 Capital Partne...|       null| null| 8000000000|          $1B|https://www.growj...|https://www.indee...|              35%|\n",
            "|              Rokt|            rokt.com|        New York|   NY|United States|      533|http://www.linked...|   2010|       Martech|           33|             33|          89611200|          58|Marketplace,Adver...|          Square Peg|       null|  B2B| 2400000000|        $487M|https://www.growj...|https://www.indee...|              32%|\n",
            "|   Thought Machine|  thoughtmachine.net|          London| null|           UK|      599|http://www.linked...|   2014|       Fintech|           34|             34|          95592900|          20|Banking,Data Stor...|Singaporean inves...|       null|  B2B| 2700000000|      $562.8M|https://www.growj...|https://www.indee...|              17%|\n",
            "|             Aiven|            aiven.io|        Helsinki| null|      Finland|      562|http://www.linked...|   2016|     Analytics|           40|             40|         104902000|          43|                saas|             Eurazeo|       null| null| 3000000000|        $420M|https://www.growj...|https://www.indee...|              80%|\n",
            "| Beta Technologies|           beta.team|South Burlington|   VT|United States|      501|http://www.linked...|   2012|      Aviation|           49|             49|         171277500|           1|                null|The Rise Fund, Fi...|       null| null| 2400000000|        $886M|https://www.growj...|https://www.indee...|              47%|\n",
            "|        BlueVoyant|      bluevoyant.com|        New York|   NY|United States|      584|http://www.linked...|   2017|   IT Security|           56|             56|         158816040|          52|                null|Liberty Strategic...|       null| null| 1000000000|      $525.5M|https://www.growj...|https://www.indee...|              24%|\n",
            "|           Paradox|          paradox.ai|      Scottsdale|   AZ|United States|      528|http://www.linked...|   2016|        HRTech|           73|             74|          98501200|          18|                saas|Brighton Park Cap...|       null| null| 1500000000|      $253.3M|https://www.growj...|https://www.indee...|              56%|\n",
            "|Bitwise Industries|bitwiseindustries...|          Fresno|   CA|United States|      509|http://www.linked...|   2013|        EdTech|           81|             82|          94945200|           1|Technology, Educa...|Kapor Center, Mot...|       null| null|  600000000|       $78.4M|https://www.growj...|https://www.indee...|              27%|\n",
            "|            Acorns|          acorns.com|          Irvine|   CA|United States|      515|http://www.linked...|   2012|       Fintech|           91|             92|          89319100|           3|Banking,Finance,M...|                 TPG|       null|  B2C| 2000000000|        $507M|https://www.growj...|https://www.indee...|              11%|\n",
            "|           Polygon|  polygon.technology|       Bangalore| null|        India|      592|http://www.linked...|   2017|       Fintech|          115|            116|          77055550|           1|                null|Sequoia Capital I...|       null| null|13000000000|        $452M|https://www.growj...|https://www.indee...|              50%|\n",
            "|            Skydio|          skydio.com|    Redwood City|   CA|United States|      521|http://www.linked...|   2014|      Aviation|          133|            134|         170893740|          61|Mobile, Robotics,...|Linse Capital, An...|       null| null| 2200000000|        $340M|https://www.growj...|https://www.indee...|              31%|\n",
            "|            Exotec|          exotec.com|           Croix| null|       France|      537|http://www.linked...|   2015|      Robotics|          149|            150|         207721200|           1|                null|Breega Capital, I...|       null| null| 2000000000|      $449.6M|https://www.growj...|https://www.indee...|              58%|\n",
            "|              Oura|        ouraring.com|            Oulu| null|      Finland|      523|http://www.linked...|   2013|Digital Health|          177|            178|          97612200|           6|                saas|Forerunner Ventur...|       null| null| 2550000000|     $148.3 M|https://www.growj...|https://www.indee...|              10%|\n",
            "|          Ironclad|     ironcladapp.com|   San Francisco|   CA|United States|      538|http://www.linked...|   2014|     Legaltech|          190|            191|         100457000|          34|SaaS, legal, lega...|                null|       null| null|       null|         null|                null|                null|             null|\n",
            "|           Scandit|         scandit.com|          Zurich| null|  Switzerland|      575|http://www.linked...|   2009|       Fintech|          203|            204|          99720400|          48|                saas|      Warburg Pincus|       null| null| 1000000000|      $273.1M|https://www.growj...|https://www.indee...|              31%|\n",
            "+------------------+--------------------+----------------+-----+-------------+---------+--------------------+-------+--------------+-------------+---------------+------------------+------------+--------------------+--------------------+-----------+-----+-----------+-------------+--------------------+--------------------+-----------------+\n",
            "only showing top 20 rows\n",
            "\n"
          ]
        }
      ]
    },
    {
      "cell_type": "markdown",
      "source": [
        "selecionar compania, indústria, palavras-chave e receita estimada ordenada pela receita (decrescente)."
      ],
      "metadata": {
        "id": "YpQwfmHBYHKm"
      }
    },
    {
      "cell_type": "code",
      "source": [
        "colunas = ['company_name', 'Industry', 'keywords', 'estimated_revenues']\n",
        "data.select(*colunas).orderBy(col('estimated_revenues').desc()).show()"
      ],
      "metadata": {
        "colab": {
          "base_uri": "https://localhost:8080/"
        },
        "id": "VmAXFcpAYPv3",
        "outputId": "5411e4d0-1945-4461-a3e8-27bd94f79985"
      },
      "execution_count": null,
      "outputs": [
        {
          "output_type": "stream",
          "name": "stdout",
          "text": [
            "+--------------------+---------------+--------------------+------------------+\n",
            "|        company_name|       Industry|            keywords|estimated_revenues|\n",
            "+--------------------+---------------+--------------------+------------------+\n",
            "|Alexandria Real E...|    Real Estate|                null|        2010000000|\n",
            "|Installed Buildin...|   Construction|                null|        1880000000|\n",
            "|  Realty Income Corp|    Real Estate|                null|        1820000000|\n",
            "|         W. P. Carey|    Real Estate|                null|        1280000000|\n",
            "|     PGT Innovations|      Materials|                null|        1080000000|\n",
            "|   Aircastle Limited|        Finance|                null|         750000000|\n",
            "|AdventHealth West...|Hospital/Health|                null|         750000000|\n",
            "|National Retail P...|    Real Estate|                null|         702430000|\n",
            "|     GenusPlus Group|   Construction|                null|         616714000|\n",
            "|     STAG Industrial|    Real Estate| Finance,Real Estate|         544490000|\n",
            "|          TransForce| Transportation|                null|         495017600|\n",
            "|     West Shore Home|   Construction|                null|         491260000|\n",
            "|DENSO Internation...|     Automotive|                null|         479556000|\n",
            "|Baldwin Risk Part...|      Insurance|                null|         477740000|\n",
            "|         Brightspeed|        Telecom|                null|         431795000|\n",
            "|         Brightspeed|        Telecom|                null|         431795000|\n",
            "|  Rexford Industrial|    Real Estate|         Real Estate|         408180000|\n",
            "|The Cook and Boar...|   Construction|                null|         406812000|\n",
            "|               Weee!|   DeliveryTech|E-Commerce, Food ...|         406000000|\n",
            "|   Dierbergs Markets|         Retail|                null|         397250000|\n",
            "+--------------------+---------------+--------------------+------------------+\n",
            "only showing top 20 rows\n",
            "\n"
          ]
        }
      ]
    },
    {
      "cell_type": "markdown",
      "source": [
        "Agrupa as empresas por país e conta quantas empresas estão em cada país."
      ],
      "metadata": {
        "id": "KK0Gyqq9Qpb8"
      }
    },
    {
      "cell_type": "code",
      "source": [
        "data.groupBy(\"country\").count().orderBy(col(\"count\").desc()).show()\n"
      ],
      "metadata": {
        "colab": {
          "base_uri": "https://localhost:8080/"
        },
        "id": "mlTEG9ZrPvOI",
        "outputId": "8141bba2-d17f-4372-a087-7de862debb29"
      },
      "execution_count": null,
      "outputs": [
        {
          "output_type": "stream",
          "name": "stdout",
          "text": [
            "+-------------+-----+\n",
            "|      country|count|\n",
            "+-------------+-----+\n",
            "|United States|  733|\n",
            "|           UK|   47|\n",
            "|          USA|   34|\n",
            "|        India|   32|\n",
            "|          CAN|   22|\n",
            "|         null|   19|\n",
            "|      Germany|   12|\n",
            "|       Israel|   11|\n",
            "|       France|    9|\n",
            "|       Canada|    5|\n",
            "|          AUS|    5|\n",
            "|          Ind|    5|\n",
            "|       Norway|    4|\n",
            "|          SWE|    4|\n",
            "|       Mexico|    4|\n",
            "|  Switzerland|    4|\n",
            "|          SGP|    4|\n",
            "|  Netherlands|    4|\n",
            "|    Australia|    3|\n",
            "|  South Korea|    2|\n",
            "+-------------+-----+\n",
            "only showing top 20 rows\n",
            "\n"
          ]
        }
      ]
    },
    {
      "cell_type": "markdown",
      "source": [
        "Agrupando Empresas por estado e cidade."
      ],
      "metadata": {
        "id": "JngGp_BLRg-d"
      }
    },
    {
      "cell_type": "code",
      "source": [
        "data.groupBy(\"state\", \"city\").count().orderBy(col(\"count\").desc()).show()\n",
        "\n"
      ],
      "metadata": {
        "colab": {
          "base_uri": "https://localhost:8080/"
        },
        "id": "j0gfCp_ORYWI",
        "outputId": "05a337be-bab6-4bcd-bc87-973f67f7f136"
      },
      "execution_count": null,
      "outputs": [
        {
          "output_type": "stream",
          "name": "stdout",
          "text": [
            "+-----+-------------+-----+\n",
            "|state|         city|count|\n",
            "+-----+-------------+-----+\n",
            "|   CA|San Francisco|  136|\n",
            "|   NY|     New York|  105|\n",
            "| null|       London|   35|\n",
            "|   CA|    Palo Alto|   28|\n",
            "|   MA|       Boston|   22|\n",
            "|   TX|       Austin|   18|\n",
            "|   CA|  Los Angeles|   17|\n",
            "|   WA|      Seattle|   16|\n",
            "|   CA|Mountain View|   15|\n",
            "|   IL|      Chicago|   14|\n",
            "| null|         null|   13|\n",
            "|   CA|    San Diego|   12|\n",
            "|   ON|      Toronto|   10|\n",
            "|   CA| Santa Monica|   10|\n",
            "|   CA|    San Mateo|    9|\n",
            "| null|    Bangalore|    9|\n",
            "|   CA|  Santa Clara|    8|\n",
            "|   FL|        Miami|    8|\n",
            "|   GA|      Atlanta|    8|\n",
            "|   MA|    Cambridge|    7|\n",
            "+-----+-------------+-----+\n",
            "only showing top 20 rows\n",
            "\n"
          ]
        }
      ]
    },
    {
      "cell_type": "markdown",
      "source": [
        "Média de funcionários por país."
      ],
      "metadata": {
        "id": "cYKW3CZu7-Q2"
      }
    },
    {
      "cell_type": "code",
      "source": [
        "data.groupBy(\"country\").agg({\"employees\": \"avg\"}).orderBy(col(\"avg(employees)\").desc()).show()\n"
      ],
      "metadata": {
        "id": "g4dZyB3M7ozV"
      },
      "execution_count": null,
      "outputs": []
    },
    {
      "cell_type": "markdown",
      "source": [
        "Analisando empresas por setor:"
      ],
      "metadata": {
        "id": "TlbwhHa38bam"
      }
    },
    {
      "cell_type": "code",
      "source": [
        "data.groupBy(\"Industry\").agg({\"*\": \"count\"}).withColumnRenamed(\"count(1)\", \"count_companies\").show()\n",
        "#média de receita por setor:\n",
        "data.groupBy(\"Industry\").agg({\"estimated_revenues\": \"avg\"}).orderBy(col(\"avg(estimated_revenues)\").desc()).show()"
      ],
      "metadata": {
        "id": "lBMaj3RH8fG0"
      },
      "execution_count": null,
      "outputs": []
    }
  ]
}